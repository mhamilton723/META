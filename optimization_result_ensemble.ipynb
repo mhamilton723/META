{
 "metadata": {
  "name": "",
  "signature": "sha256:e107225c6817fb1e1b7400a6aaeb4fc32b91351e5b5f2fbdcf7304916224b57b"
 },
 "nbformat": 3,
 "nbformat_minor": 0,
 "worksheets": [
  {
   "cells": [
    {
     "cell_type": "code",
     "collapsed": false,
     "input": [
      "from __future__ import print_function\n",
      "import matplotlib.pyplot as plt\n",
      "import hamilton_ml_mod as my\n",
      "import ml_regressor_list as reglist\n",
      "import ml_param as param\n",
      "reload(my); reload(reglist); reload(param)\n",
      "\n",
      "\n",
      "try:\n",
      "    results=my.depickler(param.ensemble_pickle_file)\n",
      "    print('Loaded precomputed results')\n",
      "    (long_train,long_res_train,long_test,long_res_test)=results\n",
      "except IOError:\n",
      "    print(\"No precomputed data found, proceeding to calculate results.\")\n",
      "    \n",
      "    #get feature names\n",
      "    with open(param.feature_file) as f:\n",
      "        features = f.readlines()\n",
      "    features=map(str.strip, features)\n",
      "\n",
      "    #parse data\n",
      "    data=my.parser(param.data_file,features,param.response_var)\n",
      "    data=my.subsample(data,param.subsample)\n",
      "    X=data[0]\n",
      "    Y=data[1]\n",
      "\n",
      "    grid_list=my.depickler(param.opt_pickle_file)\n",
      "    reg_list=[]\n",
      "    for grid in grid_list:\n",
      "        reg=grid.best_estimator_\n",
      "        reg.steps[3]=('reg', my.BaggingRegressor(reg.steps[3][1], n_estimators=param.n_estimators,oob_score=True))\n",
      "        reg_list.append(reg)\n",
      "\n",
      "    (long_train,long_res_train,long_test,long_res_test) = my.cv_aggregator_list(reg_list,X,Y,test_size=.2,n_iters=param.n_iterations)\n",
      "\n",
      "    results=(long_train,long_res_train,long_test,long_res_test)\n",
      "    my.pickler(results,param.ensemble_pickle_file)\n",
      "    print('Results Pickled')\n",
      "\n",
      "print('Plotting Results')\n",
      "plt.clf()\n",
      "plt.close()\n",
      "plt.figure(figsize=(23,10))\n",
      "size=len(reg_list)\n",
      "for i in range(0,size):\n",
      "    plt.subplot(2,size,i+1)\n",
      "    my.astro_plot(long_train[i],long_res_train[i],reglist.names_list[i]+' train')\n",
      "    plt.subplot(2,size,size+i+1)\n",
      "    my.astro_plot(long_test[i],long_res_test[i],reglist.names_list[i]+' test')\n",
      "plt.savefig(param.opt_ensemble_res_file)\n",
      "plt.show()\n",
      "   \n"
     ],
     "language": "python",
     "metadata": {},
     "outputs": [
      {
       "output_type": "stream",
       "stream": "stdout",
       "text": [
        "Metaparameters Read\n",
        "No precomputed data found, proceeding to calculate results.\n",
        "Data Subsampled"
       ]
      },
      {
       "output_type": "stream",
       "stream": "stdout",
       "text": [
        "\n",
        "Results Pickled"
       ]
      },
      {
       "output_type": "stream",
       "stream": "stdout",
       "text": [
        "\n",
        "Plotting Results\n"
       ]
      },
      {
       "output_type": "stream",
       "stream": "stderr",
       "text": [
        "C:\\Anaconda\\lib\\site-packages\\sklearn\\ensemble\\bagging.py:857: UserWarning: Some inputs do not have OOB scores. This probably means too few estimators were used to compute any reliable oob estimates.\n",
        "  warn(\"Some inputs do not have OOB scores. \"\n"
       ]
      }
     ],
     "prompt_number": 31
    },
    {
     "cell_type": "code",
     "collapsed": false,
     "input": [
      "reload(my)\n",
      "clf=reg_list[6]\n",
      "X_train, X_test, Y_train, Y_test = my.train_test_split(X, Y, test_size=.2)\n",
      "\n",
      "print(X_train.shape,Y_train.shape,clf,i)\n",
      "clf.fit(X_train,Y_train)\n",
      "\n",
      "#(long_trainl,long_res_trainl,long_testl,long_res_testl) = my.cv_aggregator_list(reg_list,X,Y,test_size=.2,cv=10)"
     ],
     "language": "python",
     "metadata": {},
     "outputs": [
      {
       "output_type": "stream",
       "stream": "stdout",
       "text": [
        "(80L, 15L) (80L,) Pipeline(steps=[('inputer', Imputer(axis=0, copy=True, missing_values=-99, strategy='mean', verbose=0)), ('scaler', StandardScaler(copy=True, with_mean=True, with_std=True)), ('dim_reduce', PCA(copy=True, n_components=1, whiten=False)), ('reg', BaggingRegressor(base_estimator=RANSACRegressor(base_estimator=N...max_samples=1.0, n_estimators=30, n_jobs=1, oob_score=True,\n",
        "         random_state=None, verbose=0))]) 1\n"
       ]
      },
      {
       "ename": "ValueError",
       "evalue": "non-broadcastable output operand with shape (29,) doesn't match the broadcast shape (29,29)",
       "output_type": "pyerr",
       "traceback": [
        "\u001b[1;31m---------------------------------------------------------------------------\u001b[0m\n\u001b[1;31mValueError\u001b[0m                                Traceback (most recent call last)",
        "\u001b[1;32m<ipython-input-23-59b8a3b49a35>\u001b[0m in \u001b[0;36m<module>\u001b[1;34m()\u001b[0m\n\u001b[0;32m      4\u001b[0m \u001b[1;33m\u001b[0m\u001b[0m\n\u001b[0;32m      5\u001b[0m \u001b[1;32mprint\u001b[0m\u001b[1;33m(\u001b[0m\u001b[0mX_train\u001b[0m\u001b[1;33m.\u001b[0m\u001b[0mshape\u001b[0m\u001b[1;33m,\u001b[0m\u001b[0mY_train\u001b[0m\u001b[1;33m.\u001b[0m\u001b[0mshape\u001b[0m\u001b[1;33m,\u001b[0m\u001b[0mclf\u001b[0m\u001b[1;33m,\u001b[0m\u001b[0mi\u001b[0m\u001b[1;33m)\u001b[0m\u001b[1;33m\u001b[0m\u001b[0m\n\u001b[1;32m----> 6\u001b[1;33m \u001b[0mclf\u001b[0m\u001b[1;33m.\u001b[0m\u001b[0mfit\u001b[0m\u001b[1;33m(\u001b[0m\u001b[0mX_train\u001b[0m\u001b[1;33m,\u001b[0m\u001b[0mY_train\u001b[0m\u001b[1;33m)\u001b[0m\u001b[1;33m\u001b[0m\u001b[0m\n\u001b[0m\u001b[0;32m      7\u001b[0m \u001b[1;33m\u001b[0m\u001b[0m\n\u001b[0;32m      8\u001b[0m \u001b[1;31m#(long_trainl,long_res_trainl,long_testl,long_res_testl) = my.cv_aggregator_list(reg_list,X,Y,test_size=.2,cv=10)\u001b[0m\u001b[1;33m\u001b[0m\u001b[1;33m\u001b[0m\u001b[0m\n",
        "\u001b[1;32mC:\\Anaconda\\lib\\site-packages\\sklearn\\pipeline.pyc\u001b[0m in \u001b[0;36mfit\u001b[1;34m(self, X, y, **fit_params)\u001b[0m\n\u001b[0;32m    139\u001b[0m         \"\"\"\n\u001b[0;32m    140\u001b[0m         \u001b[0mXt\u001b[0m\u001b[1;33m,\u001b[0m \u001b[0mfit_params\u001b[0m \u001b[1;33m=\u001b[0m \u001b[0mself\u001b[0m\u001b[1;33m.\u001b[0m\u001b[0m_pre_transform\u001b[0m\u001b[1;33m(\u001b[0m\u001b[0mX\u001b[0m\u001b[1;33m,\u001b[0m \u001b[0my\u001b[0m\u001b[1;33m,\u001b[0m \u001b[1;33m**\u001b[0m\u001b[0mfit_params\u001b[0m\u001b[1;33m)\u001b[0m\u001b[1;33m\u001b[0m\u001b[0m\n\u001b[1;32m--> 141\u001b[1;33m         \u001b[0mself\u001b[0m\u001b[1;33m.\u001b[0m\u001b[0msteps\u001b[0m\u001b[1;33m[\u001b[0m\u001b[1;33m-\u001b[0m\u001b[1;36m1\u001b[0m\u001b[1;33m]\u001b[0m\u001b[1;33m[\u001b[0m\u001b[1;33m-\u001b[0m\u001b[1;36m1\u001b[0m\u001b[1;33m]\u001b[0m\u001b[1;33m.\u001b[0m\u001b[0mfit\u001b[0m\u001b[1;33m(\u001b[0m\u001b[0mXt\u001b[0m\u001b[1;33m,\u001b[0m \u001b[0my\u001b[0m\u001b[1;33m,\u001b[0m \u001b[1;33m**\u001b[0m\u001b[0mfit_params\u001b[0m\u001b[1;33m)\u001b[0m\u001b[1;33m\u001b[0m\u001b[0m\n\u001b[0m\u001b[0;32m    142\u001b[0m         \u001b[1;32mreturn\u001b[0m \u001b[0mself\u001b[0m\u001b[1;33m\u001b[0m\u001b[0m\n\u001b[0;32m    143\u001b[0m \u001b[1;33m\u001b[0m\u001b[0m\n",
        "\u001b[1;32mC:\\Anaconda\\lib\\site-packages\\sklearn\\ensemble\\bagging.pyc\u001b[0m in \u001b[0;36mfit\u001b[1;34m(self, X, y, sample_weight)\u001b[0m\n\u001b[0;32m    305\u001b[0m \u001b[1;33m\u001b[0m\u001b[0m\n\u001b[0;32m    306\u001b[0m         \u001b[1;32mif\u001b[0m \u001b[0mself\u001b[0m\u001b[1;33m.\u001b[0m\u001b[0moob_score\u001b[0m\u001b[1;33m:\u001b[0m\u001b[1;33m\u001b[0m\u001b[0m\n\u001b[1;32m--> 307\u001b[1;33m             \u001b[0mself\u001b[0m\u001b[1;33m.\u001b[0m\u001b[0m_set_oob_score\u001b[0m\u001b[1;33m(\u001b[0m\u001b[0mX\u001b[0m\u001b[1;33m,\u001b[0m \u001b[0my\u001b[0m\u001b[1;33m)\u001b[0m\u001b[1;33m\u001b[0m\u001b[0m\n\u001b[0m\u001b[0;32m    308\u001b[0m \u001b[1;33m\u001b[0m\u001b[0m\n\u001b[0;32m    309\u001b[0m         \u001b[1;32mreturn\u001b[0m \u001b[0mself\u001b[0m\u001b[1;33m\u001b[0m\u001b[0m\n",
        "\u001b[1;32mC:\\Anaconda\\lib\\site-packages\\sklearn\\ensemble\\bagging.pyc\u001b[0m in \u001b[0;36m_set_oob_score\u001b[1;34m(self, X, y)\u001b[0m\n\u001b[0;32m    851\u001b[0m             \u001b[0mmask\u001b[0m\u001b[1;33m[\u001b[0m\u001b[0msamples\u001b[0m\u001b[1;33m]\u001b[0m \u001b[1;33m=\u001b[0m \u001b[0mFalse\u001b[0m\u001b[1;33m\u001b[0m\u001b[0m\n\u001b[0;32m    852\u001b[0m \u001b[1;33m\u001b[0m\u001b[0m\n\u001b[1;32m--> 853\u001b[1;33m             \u001b[0mpredictions\u001b[0m\u001b[1;33m[\u001b[0m\u001b[0mmask\u001b[0m\u001b[1;33m]\u001b[0m \u001b[1;33m+=\u001b[0m \u001b[0mestimator\u001b[0m\u001b[1;33m.\u001b[0m\u001b[0mpredict\u001b[0m\u001b[1;33m(\u001b[0m\u001b[1;33m(\u001b[0m\u001b[0mX\u001b[0m\u001b[1;33m[\u001b[0m\u001b[0mmask\u001b[0m\u001b[1;33m,\u001b[0m \u001b[1;33m:\u001b[0m\u001b[1;33m]\u001b[0m\u001b[1;33m)\u001b[0m\u001b[1;33m[\u001b[0m\u001b[1;33m:\u001b[0m\u001b[1;33m,\u001b[0m \u001b[0mfeatures\u001b[0m\u001b[1;33m]\u001b[0m\u001b[1;33m)\u001b[0m\u001b[1;33m\u001b[0m\u001b[0m\n\u001b[0m\u001b[0;32m    854\u001b[0m             \u001b[0mn_predictions\u001b[0m\u001b[1;33m[\u001b[0m\u001b[0mmask\u001b[0m\u001b[1;33m]\u001b[0m \u001b[1;33m+=\u001b[0m \u001b[1;36m1\u001b[0m\u001b[1;33m\u001b[0m\u001b[0m\n\u001b[0;32m    855\u001b[0m \u001b[1;33m\u001b[0m\u001b[0m\n",
        "\u001b[1;31mValueError\u001b[0m: non-broadcastable output operand with shape (29,) doesn't match the broadcast shape (29,29)"
       ]
      }
     ],
     "prompt_number": 23
    },
    {
     "cell_type": "code",
     "collapsed": false,
     "input": [],
     "language": "python",
     "metadata": {},
     "outputs": []
    }
   ],
   "metadata": {}
  }
 ]
}