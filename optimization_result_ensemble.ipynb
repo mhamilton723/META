{
 "metadata": {
  "name": "",
  "signature": "sha256:8a01ced8080cd9b6ef406de47c5c5207dc62114d471c47354ac671b1fbace6f8"
 },
 "nbformat": 3,
 "nbformat_minor": 0,
 "worksheets": [
  {
   "cells": [
    {
     "cell_type": "code",
     "collapsed": false,
     "input": [
      "from __future__ import print_function\n",
      "import matplotlib.pyplot as plt\n",
      "import hamilton_ml_mod as my\n",
      "import ml_regressor_list as reglist\n",
      "import ml_param as param\n",
      "reload(my); reload(reglist); reload(param)\n",
      "\n",
      "try:\n",
      "    results=my.depickler(param.ensemble_pickle_file)\n",
      "    print('Loaded Ensemble Results')\n",
      "    (long_train,long_res_train,long_test,long_res_test)=results\n",
      "except IOError:\n",
      "    print(\"No Ensemble Results found, proceeding to calculate results.\")\n",
      "    \n",
      "    loaded_data=False\n",
      "    try:\n",
      "        saved_data = my.depickler(param.split_data_file)\n",
      "        (X_train, X_test, Y_train, Y_test) = saved_data\n",
      "        print('Loaded previous data')\n",
      "        loaded_data=True\n",
      "    except IOError:\n",
      "        print('CONTAMINATION WARNING:')\n",
      "        print('Could not load previous data, reparsing data')\n",
      "        \n",
      "        #parse data\n",
      "        data=my.parser(param.data_file,param.feature_file,param.response_var)\n",
      "        data=my.subsample(data,param.subsample)\n",
      "        X=data[0]; Y=data[1]\n",
      "\n",
      "    reg_list=[]\n",
      "    try:\n",
      "        grid_list=my.depickler(param.opt_pickle_file)\n",
      "        print('Loaded previous grid search results')\n",
      "        for grid in grid_list:\n",
      "            reg=grid.best_estimator_\n",
      "            reg.steps[3]=('reg', my.BaggingRegressor(reg.steps[3][1], n_estimators=param.n_estimators,oob_score=True))\n",
      "            reg_list.append(reg)\n",
      "    except IOError:\n",
      "        print('Cound not load previous grid search results')\n",
      "        print('Bagging default regressors')\n",
      "        \n",
      "        for reg,param_space in zip(reglist.reg_list, reglist.param_space_list):\n",
      "            pipe=my.Pipeline([('inputer',reglist.imputer),('scaler',reglist.scaler),('dim_reduce',reglist.dim_reduce),('reg',reg)]) \n",
      "            reg_list.append(pipe)\n",
      "        \n",
      "   #If there are no fears of contamination \n",
      "   #bootstrap for better visualization of errors\n",
      "    if not loaded_data:\n",
      "        (Y_actual_train_l,Y_actual_test_l,Y_pred_train_l,Y_pred_test_l) = \\\n",
      "        my.bootstrap_fit_list(reg_list,X,Y,test_size=param.test_size,n_iters=param.n_iterations)\n",
      "    else:\n",
      "        (Y_actual_train_l,Y_actual_test_l,Y_pred_train_l,Y_pred_test_l) = \\\n",
      "        my.fit_list(reg_list,X_train,Y_train,X_test,Y_test)\n",
      "\n",
      "    results = (Y_actual_train_l,Y_actual_test_l,Y_pred_test_l,Y_pred_train_l)\n",
      "    my.pickler(results,param.ensemble_pickle_file)\n",
      "    print('Results Pickled')\n",
      "\n",
      "print('Plotting Results')\n",
      "plt.clf()\n",
      "plt.close()\n",
      "plt.figure(figsize=(23,10))\n",
      "size=len(reg_list)\n",
      "for i in range(0,size):\n",
      "    plt.subplot(2,size,i+1)\n",
      "    my.astro_plot(Y_actual_train_l[i],Y_pred_train_l[i],reglist.names_list[i]+' train')\n",
      "    plt.subplot(2,size,size+i+1)\n",
      "    my.astro_plot(Y_actual_test_l[i],Y_pred_test_l[i],reglist.names_list[i]+' test')\n",
      "plt.savefig(param.opt_ensemble_res_file)\n",
      "plt.show()\n",
      "   \n"
     ],
     "language": "python",
     "metadata": {},
     "outputs": []
    },
    {
     "cell_type": "code",
     "collapsed": false,
     "input": [
      "print(len(Y_actual_train_l[0]), len(Y_pred_train_l[0]),len(Y_actual_test_l[0]),len(Y_pred_test_l[0]))"
     ],
     "language": "python",
     "metadata": {},
     "outputs": [
      {
       "output_type": "stream",
       "stream": "stdout",
       "text": [
        "80 20 20 80\n"
       ]
      }
     ],
     "prompt_number": 11
    },
    {
     "cell_type": "code",
     "collapsed": false,
     "input": [],
     "language": "python",
     "metadata": {},
     "outputs": []
    }
   ],
   "metadata": {}
  }
 ]
}